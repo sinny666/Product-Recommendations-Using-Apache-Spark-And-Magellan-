{
 "cells": [
  {
   "cell_type": "markdown",
   "metadata": {},
   "source": [
    "# ============================================================"
   ]
  },
  {
   "cell_type": "markdown",
   "metadata": {},
   "source": [
    "# Product Recommendations Using Apache Spark + Magellan"
   ]
  },
  {
   "cell_type": "markdown",
   "metadata": {},
   "source": [
    "What is Magellan ?\n",
    "\n",
    "- Magellan is a flexible, AI-powered Analytics platform that combines open source ML with advanced analytics, enterprise-grade BI, and capabilities to acquire, merge, manage and analyze Big Data and Big Content stored in your Enterprise Information Management (EIM) systems. Magellan enables machine-assisted decision making, automation, and business optimization.\n",
    "\n",
    "What is Spark Machine Learning ?\n",
    "\n",
    "- Apache Spark’s machine learning library makes practical machine learning scalable and easy. The library consists of common machine learning algorithms and utilities, including classification, regression, clustering, collaborative filtering, dimensionality reduction, lower-level optimization primitives, and higher-level pipeline APIs.\n",
    "\n",
    "What is this Notebook about?\n",
    "\n",
    "- In this magellan notebook, you will use Apache Spark and the Spark machine learning library to build a Product Recommendation System for Innovate Bank\n",
    "\n",
    "How Does a Recommendation Engine Work?\n",
    "- There are different methods for building a recommender system, such as, user-based, content-based, or collaborative filtering. Collaborative filtering calculates recommendations based on similarities between users and products. For example, collaborative filtering assumes that customers that purchase similar financial products will also have similar opinions on financial products that they haven't purchased. The alternating least squares (ALS) algorithm provides collaborative filtering between users and products to find products that the customers might like, based on their previous purchase history.\n",
    "\n",
    "Notebook Requirements: \n",
    "- customer_accounts (Historical Data on Products Purchased By Customers)\n",
    "- customer_offers (Sample Data To Score - list of products customers do not currently have)\n",
    "- Magellan - Pyspark Kernel\n",
    "- Magellan Version 16.6"
   ]
  },
  {
   "cell_type": "markdown",
   "metadata": {},
   "source": [
    "# ============================================================"
   ]
  },
  {
   "cell_type": "markdown",
   "metadata": {},
   "source": [
    "# In this notebook, you will learn how to:\n",
    "1. Import Packages and load data stored in Magellan Data Lake (HDFS)\n",
    "2. Conduct Data Exploration Using Pandas and matplotlib\n",
    "3. Build a recommendation model and tune algorithm parameters\n",
    "4. Initialize the final model\n",
    "5.  Save & Deploy a machine learning pipeline - so that operational users can access the model and make predictions"
   ]
  },
  {
   "cell_type": "markdown",
   "metadata": {},
   "source": [
    "# 1. Import Packages and load data stored in Magellan Data Lake (HDFS)\n"
   ]
  },
  {
   "cell_type": "code",
   "execution_count": 1,
   "metadata": {
    "collapsed": true,
    "scrolled": true
   },
   "outputs": [],
   "source": [
    "# upload packages\n",
    "from pyspark.sql.types import *\n",
    "from pyspark.sql.functions import *\n",
    "from pyspark.ml import Pipeline\n",
    "import matplotlib.pyplot as plt\n",
    "import pandas as pd\n",
    "\n",
    "# machine learning packages\n",
    "from pyspark.sql import Row\n",
    "from pyspark.ml.evaluation import RegressionEvaluator\n",
    "from pyspark.ml.recommendation import ALSModel, ALS\n",
    "from pyspark.ml.feature import SQLTransformer\n",
    "from pyspark.sql.types import IntegerType, StructType, StructField\n"
   ]
  },
  {
   "cell_type": "code",
   "execution_count": 2,
   "metadata": {
    "collapsed": true,
    "scrolled": false
   },
   "outputs": [],
   "source": [
    "# import data from hdfs / spark gateway\n",
    "Customer_Accounts = spark.sql(\"select customer_urn, productid,products, rating from product_recommender.customer_accounts\")\n"
   ]
  },
  {
   "cell_type": "markdown",
   "metadata": {},
   "source": [
    "# 2. Conduct Data Exploration Using Pandas and matplotlib\n"
   ]
  },
  {
   "cell_type": "markdown",
   "metadata": {},
   "source": [
    "- Show top 5 records\n",
    "- Change data type to fit algorithm requirements\n",
    "- Remove missing values & count number of records\n",
    "- Visualize number of accounts within the investment category (by Product)"
   ]
  },
  {
   "cell_type": "code",
   "execution_count": 3,
   "metadata": {
    "scrolled": true
   },
   "outputs": [
    {
     "name": "stdout",
     "output_type": "stream",
     "text": [
      "+------------+---------+----------------+------+\n",
      "|customer_urn|productid|        products|rating|\n",
      "+------------+---------+----------------+------+\n",
      "|  1000001826|        9| Investment ISAs|     1|\n",
      "|  1000001826|       23|Traditional IRAs|     1|\n",
      "|  1000007658|       16|        Property|     1|\n",
      "|  1000007658|       23|Traditional IRAs|     1|\n",
      "|  1000009084|       11|            Loan|     1|\n",
      "+------------+---------+----------------+------+\n",
      "only showing top 5 rows\n",
      "\n"
     ]
    }
   ],
   "source": [
    "# list of top 5 customer records \n",
    "Customer_Accounts.show(5)"
   ]
  },
  {
   "cell_type": "code",
   "execution_count": 4,
   "metadata": {
    "collapsed": true,
    "scrolled": true
   },
   "outputs": [],
   "source": [
    "# change datatype for customer urn (integer), productid (integer) and rating (float) - this is the required input for ALS\n",
    "Customer_Accounts = Customer_Accounts.withColumn('customer_urn', col('customer_urn').cast(IntegerType()))\n",
    "Customer_Accounts = Customer_Accounts.withColumn('productid', col('productid').cast(IntegerType()))\n",
    "Customer_Accounts = Customer_Accounts.withColumn('rating', col('rating').cast(FloatType()))"
   ]
  },
  {
   "cell_type": "code",
   "execution_count": 8,
   "metadata": {
    "scrolled": false
   },
   "outputs": [
    {
     "name": "stdout",
     "output_type": "stream",
     "text": [
      "There are  2,095,562  customer records in the Accounts Table\n"
     ]
    }
   ],
   "source": [
    "# Remove rows that have missing values or no customer urns\n",
    "Customer_Accounts = Customer_Accounts.na.drop(subset=[\"customer_urn\"])\n",
    "print \"There are \", format(Customer_Accounts.count(),',d'), \" customer records in the Accounts Table\""
   ]
  },
  {
   "cell_type": "code",
   "execution_count": 17,
   "metadata": {
    "collapsed": true
   },
   "outputs": [],
   "source": [
    "#convert to pandas dataframe for plotting\n",
    "all_accounts = Customer_Accounts.toPandas()"
   ]
  },
  {
   "cell_type": "code",
   "execution_count": 18,
   "metadata": {},
   "outputs": [
    {
     "data": {
      "image/png": "[encoded data removed]",
      "text/plain": [
       "<Figure size 432x288 with 1 Axes>"
      ]
     },
     "metadata": {
      "needs_background": "light"
     },
     "output_type": "display_data"
    }
   ],
   "source": [
    "#select all investment products\n",
    "investment_accounts = all_accounts.loc[(all_accounts['products']  == 'Investment ISAs') | \n",
    "                                       (all_accounts['products']  == 'Mutual Funds') | \n",
    "                                       (all_accounts['products']  == 'Structured Products')|\n",
    "                                       (all_accounts['products']  == 'Stocks')|\n",
    "                                       (all_accounts['products']  == 'Government Bonds')|\n",
    "                                       (all_accounts['products']  == 'Secured Lending')|\n",
    "                                       (all_accounts['products']  == 'Corporate Bonds')|\n",
    "                                       (all_accounts['products']  == 'ETFs'),]\n",
    "\n",
    "#barplot for # of investment products\n",
    "investment_accounts['products'].value_counts().plot(kind = 'barh')\n",
    "plt.xlabel('Number of Accounts')\n",
    "plt.title('Investment Products - Innovate Bank')\n",
    "plt.show()"
   ]
  },
  {
   "cell_type": "markdown",
   "metadata": {
    "collapsed": true
   },
   "source": [
    "Notes\n",
    "-  Stocks and investments ISAs are the most popular Investment type products"
   ]
  },
  {
   "cell_type": "markdown",
   "metadata": {},
   "source": [
    "# 3. Build a recommendation model and tune algorithm parameters\n"
   ]
  },
  {
   "cell_type": "markdown",
   "metadata": {},
   "source": [
    "ALS algorithm has training parameters such as rank for matrix factors and regularization constants. To determine a good combination of the training parameters, we will evaluate rmse for each set of parameters. We will train the model on 80% of the data, and then use the trained algorithm to make predictions on the remaining test set (20%). Next, we will compare the predicted rating with the actual rating in the testset and calculate RMSE. RMSE represents the sample standard deviation of the differences between the predicted values with the actual values. \n",
    "\n",
    "- Split data into train and test model (80/20 split)\n"
   ]
  },
  {
   "cell_type": "code",
   "execution_count": 19,
   "metadata": {
    "collapsed": true
   },
   "outputs": [],
   "source": [
    "(train,test) = Customer_Accounts.randomSplit([0.8, 0.2], seed = 123)"
   ]
  },
  {
   "cell_type": "markdown",
   "metadata": {},
   "source": [
    "- Now we will evaluate the accuracy of the model based on changes to the rank parameter \n",
    "- Rank is equal to number of latent factors to create for the model"
   ]
  },
  {
   "cell_type": "code",
   "execution_count": 20,
   "metadata": {
    "collapsed": true
   },
   "outputs": [],
   "source": [
    "# Let's try out a few values for the rank parameter\n",
    "ranks = [3,6,9,12]"
   ]
  },
  {
   "cell_type": "code",
   "execution_count": 21,
   "metadata": {},
   "outputs": [
    {
     "data": {
      "image/png": "[encoded data removed]",
      "text/plain": [
       "<Figure size 432x288 with 1 Axes>"
      ]
     },
     "metadata": {
      "needs_background": "light"
     },
     "output_type": "display_data"
    }
   ],
   "source": [
    "# setup a data frame to track evaluation results\n",
    "rank_results = pd.DataFrame(columns=['Rank','RMSE'])\n",
    "minimum_error = float('inf') \n",
    "\n",
    "for i in ranks:\n",
    "\n",
    "        # Create an als model with the given set of specific paramters \n",
    "        als_validation = ALS(maxIter=5 ,rank =i,implicitPrefs=True, userCol=\"customer_urn\", itemCol=\"productid\", ratingCol=\"rating\", nonnegative=True)\n",
    "        model = als_validation.fit(train)\n",
    "        \n",
    "        #predict ratings for the test set using above trained model\n",
    "        predictions = model.transform(test)\n",
    "        \n",
    "        # drop missing values from prediciton - else rmse will be Nan \n",
    "        predicted_ratings_df = predictions.filter(predictions.prediction != float('nan'))\n",
    "        \n",
    "        #evaluate predictions by calculating rmse\n",
    "        evaluator = RegressionEvaluator(metricName=\"rmse\", labelCol=\"rating\",\n",
    "                                        predictionCol=\"prediction\")\n",
    "        # store rmse\n",
    "        rmse = evaluator.evaluate(predicted_ratings_df)\n",
    "        \n",
    "        # append rank results to a dataframe\n",
    "        rank_results = rank_results.append({'Rank':i, 'RMSE':rmse}, ignore_index=True)\n",
    "\n",
    "        # store model results for this iteration and compare to previous iteration results\n",
    "        if rmse < minimum_error:\n",
    "            minimum_error = rmse\n",
    "\n",
    "            # store value for the best rank\n",
    "            best_rank = i\n",
    "        \n",
    "        \n",
    "# plot the value vs accuracy results for rank by RMSE\n",
    "rank_results.plot(x='Rank',y='RMSE')\n",
    "plt.xlabel('Rank')\n",
    "plt.ylabel('RMSE')\n",
    "plt.title('RMSE Metric by Number of Hidden Factors / Rank')\n",
    "plt.show()\n"
   ]
  },
  {
   "cell_type": "markdown",
   "metadata": {},
   "source": [
    "# 4. Initialize the final recommender model"
   ]
  },
  {
   "cell_type": "markdown",
   "metadata": {},
   "source": [
    "- Algorithm: Alternating Least Squares\n",
    "- Type: Implicit Feedback (This parameter is used since the ratings in this data are implicit (customer purchased a product = 1, and not explicit. An example of explicit ratings will be if the customer rated a product on a scale of 1 - 5)\n",
    "- Add a sql transformer to convert predictions to 2 decimal places"
   ]
  },
  {
   "cell_type": "code",
   "execution_count": 22,
   "metadata": {},
   "outputs": [],
   "source": [
    "# Set the parameters for the final als model\n",
    "als = ALS(maxIter= 5 ,rank = best_rank, implicitPrefs=True, userCol=\"customer_urn\", itemCol=\"productid\", ratingCol=\"rating\", nonnegative = True)\n",
    "\n",
    "# train als model with above paramters on accounts dataset\n",
    "cf_model = als.fit(train)"
   ]
  },
  {
   "cell_type": "code",
   "execution_count": 23,
   "metadata": {
    "collapsed": true
   },
   "outputs": [],
   "source": [
    "# format predictions to 2 decimal places\n",
    "sql_round = SQLTransformer(statement=\"SELECT customer_urn, productid, products, round(prediction,2) as prediction FROM __THIS__\")"
   ]
  },
  {
   "cell_type": "code",
   "execution_count": 24,
   "metadata": {
    "collapsed": true
   },
   "outputs": [],
   "source": [
    "# setup the pipeline\n",
    "pipeline = Pipeline(stages=[cf_model,sql_round])"
   ]
  },
  {
   "cell_type": "code",
   "execution_count": 25,
   "metadata": {
    "collapsed": true
   },
   "outputs": [],
   "source": [
    "# fit pipeline on the customer accounts data\n",
    "final_pipeline = pipeline.fit(train)"
   ]
  },
  {
   "cell_type": "markdown",
   "metadata": {},
   "source": [
    "# 5.  Save & deploy the machine learning pipeline to empower users\n",
    "- Save the model pipeline to magellan datalake\n",
    "- Click on Publish to Magellan Data Discovery and complete form as below"
   ]
  },
  {
   "cell_type": "code",
   "execution_count": 26,
   "metadata": {
    "collapsed": true
   },
   "outputs": [],
   "source": [
    "#save ML pipeline\n",
    "final_pipeline.write().overwrite().save(\"hdfs://10.18.50.224/OpenText/models/Financial_Product_Recommender\")"
   ]
  },
  {
   "cell_type": "markdown",
   "metadata": {},
   "source": [
    "1. User: Type your Data Discovery username: username@magellan\n",
    "- Password: Type your Data Discovery password\n",
    "- Repository: Select Spark Gateway\n",
    "- Name: type \"Product Recommender Model Using Spark ML\"\n",
    "- Description: \"Leverage spark machine learning to predict products that the customer might like, based on their previous purchase history\"\n",
    "- The model path uses the format hdfs://ambari/OpenText/models/, without the final slash. Replace the name ambari with the hostname of your server running the Ambari dashboard. For example in this scenario, we are using: hdfs://10.18.50.224/OpenText/models/Financial_Product_Recommender\n",
    "- Category: Select Recommender\n",
    "- Label: Ratings (Target or Outcome column)\n",
    "- Degradation Warning - Set as needed, for now we can keep it at 10%\n",
    "- Schema Definition: In Dataframe variable, type train, and choose Obtain. Magellan will automaticlly detect relevant columns / fields used to build the ML pipeline. Make sure to remove column \"rating\" (since that is the outcome of the model).\n",
    "- Set the security to Share with work group (as needed), and choose Publish\n",
    "- Close the window if it says your model was published.\n"
   ]
  },
  {
   "cell_type": "markdown",
   "metadata": {},
   "source": [
    "- Your machine learning pipeline is now available for users in Magellan Data Discovery when they are connected to the Spark repository\n",
    "- Note: In order to score new data with the above created ML Model in Data Discovery, it requires customer_urn and productid fields as integer inputs (sample data provided = \"customer_offers\")"
   ]
  },
  {
   "cell_type": "markdown",
   "metadata": {},
   "source": [
    "# Done!"
   ]
  },
  {
   "cell_type": "markdown",
   "metadata": {},
   "source": [
    "# ==========================================================="
   ]
  },
  {
   "cell_type": "markdown",
   "metadata": {},
   "source": [
    "# Author"
   ]
  },
  {
   "cell_type": "markdown",
   "metadata": {},
   "source": [
    "Arjun Arora is a Data Scientist at Opentext. He specializes in technology evangelism, data science training, demos, and proof of concepts, that leverage Opentext Magellan and Big Data technologies, such as, Apache Hadoop and Apache Spark.\n",
    "\n",
    "For questions, please reach out to arjuna@opentext.com\n",
    "\n",
    "Date: 1/28/2020"
   ]
  }
 ],
 "metadata": {
  "kernelspec": {
   "display_name": "Magellan - PySpark",
   "language": "python",
   "name": "magellan_pyspark"
  },
  "language_info": {
   "codemirror_mode": {
    "name": "ipython",
    "version": 2
   },
   "file_extension": ".py",
   "mimetype": "text/x-python",
   "name": "python",
   "nbconvert_exporter": "python",
   "pygments_lexer": "ipython2",
   "version": "2.7.15"
  }
 },
 "nbformat": 4,
 "nbformat_minor": 2
}
